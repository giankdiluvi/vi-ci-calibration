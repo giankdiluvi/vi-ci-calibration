{
 "cells": [
  {
   "cell_type": "markdown",
   "id": "60114da1",
   "metadata": {},
   "source": [
    "# Logistic regression example"
   ]
  },
  {
   "cell_type": "code",
   "execution_count": null,
   "id": "46c7217e",
   "metadata": {},
   "outputs": [],
   "source": [
    "import numpy as np\n",
    "import matplotlib.pyplot as plt\n",
    "import scipy.stats as stats\n",
    "import pystan\n",
    "\n",
    "plt.rcParams.update({'figure.max_open_warning': 0})\n",
    "plt.rcParams[\"figure.figsize\"]=15,7.5\n",
    "plt.rcParams.update({'font.size': 24})\n",
    "figpath='../doc/fig/'"
   ]
  },
  {
   "cell_type": "code",
   "execution_count": null,
   "id": "9a0634c2",
   "metadata": {},
   "outputs": [],
   "source": [
    "############################\n",
    "############################\n",
    "##    data generation     ##\n",
    "############################\n",
    "############################\n",
    "\n",
    "# settings\n",
    "np.random.seed(520)\n",
    "N = 100 \n",
    "true_beta = np.array([2.,3.])\n",
    "\n",
    "# create data matrix\n",
    "X = np.ones((N,2))\n",
    "X[:,1] = -1.+1.5*np.random.randn(N)\n",
    "\n",
    "# create response variable\n",
    "eta = X.dot(true_beta)\n",
    "true_p = 1./(1+np.exp(-eta))\n",
    "Y = np.random.binomial(1,true_p,N)"
   ]
  },
  {
   "cell_type": "code",
   "execution_count": null,
   "id": "57f0c8df",
   "metadata": {},
   "outputs": [],
   "source": [
    "plt.scatter(X[:,1],true_p,c='black')\n",
    "plt.scatter(X[:,1],Y,c='cornflowerblue')\n",
    "plt.xlabel(r'$x_1$')\n",
    "plt.ylabel(r'$p$')\n",
    "plt.title(r'Response $y$ and probability as function of $\\beta_1$')"
   ]
  },
  {
   "cell_type": "markdown",
   "id": "58f3c111",
   "metadata": {},
   "source": [
    "## Fit model with Stan"
   ]
  },
  {
   "cell_type": "code",
   "execution_count": null,
   "id": "92b2afdc",
   "metadata": {},
   "outputs": [],
   "source": [
    "# model definition\n",
    "stan_code = \"\"\"\n",
    "data {\n",
    "  int<lower=0> n; // number of observations\n",
    "  int y[n]; // responses\n",
    "  vector[n] x1; // predictors\n",
    "  real beta0; // intercept\n",
    "}\n",
    "parameters {\n",
    "  real beta1;\n",
    "}\n",
    "model {\n",
    "  beta1 ~ normal(0, 30);\n",
    "  y ~ bernoulli_logit(beta0+beta1*x1);\n",
    "}\n",
    "\"\"\""
   ]
  },
  {
   "cell_type": "code",
   "execution_count": null,
   "id": "94892bff",
   "metadata": {},
   "outputs": [],
   "source": [
    "model = pystan.StanModel(model_code=stan_code)"
   ]
  },
  {
   "cell_type": "code",
   "execution_count": null,
   "id": "3998d4cb",
   "metadata": {},
   "outputs": [],
   "source": [
    "# run in stan\n",
    "stan_data = {'n': N,\n",
    "             'y': Y,\n",
    "             'x1': X[:,1],\n",
    "             'beta0': true_beta[0]}\n",
    "fit = model.sampling(data=stan_data, iter=10000, chains=1)"
   ]
  },
  {
   "cell_type": "code",
   "execution_count": null,
   "id": "9beea943",
   "metadata": {},
   "outputs": [],
   "source": [
    "# summary statistics\n",
    "print(fit.stansummary(pars=['beta1']))\n",
    "samples = fit.extract()"
   ]
  },
  {
   "cell_type": "code",
   "execution_count": null,
   "id": "f5bd63c6",
   "metadata": {},
   "outputs": [],
   "source": [
    "plt.hist(samples['beta1'], color='#2D718EFF',ec='black',alpha=0.25,label='MCMC',density=True)\n",
    "plt.vlines(true_beta[1],0,1.2,color='black',ls='dashed',label='True')\n",
    "plt.xlabel(r'$\\beta_1$')\n",
    "plt.ylabel('Density')\n",
    "leg = plt.legend(fontsize='small',frameon=False)\n",
    "#for lh in leg.legendHandles: lh.set_alpha(1)\n",
    "#plt.savefig(fig_path+'logreg_mcmc_scatter.pdf', dpi=300, bbox_inches='tight')"
   ]
  },
  {
   "cell_type": "code",
   "execution_count": null,
   "id": "17783a2c",
   "metadata": {},
   "outputs": [],
   "source": [
    "fit.plot()"
   ]
  }
 ],
 "metadata": {
  "kernelspec": {
   "display_name": "Python 3 (ipykernel)",
   "language": "python",
   "name": "python3"
  },
  "language_info": {
   "codemirror_mode": {
    "name": "ipython",
    "version": 3
   },
   "file_extension": ".py",
   "mimetype": "text/x-python",
   "name": "python",
   "nbconvert_exporter": "python",
   "pygments_lexer": "ipython3",
   "version": "3.9.6"
  }
 },
 "nbformat": 4,
 "nbformat_minor": 5
}
