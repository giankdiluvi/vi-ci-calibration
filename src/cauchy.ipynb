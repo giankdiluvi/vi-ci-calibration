{
 "cells": [
  {
   "cell_type": "markdown",
   "id": "5c43b8e2",
   "metadata": {},
   "source": [
    "# Cauchy example"
   ]
  },
  {
   "cell_type": "code",
   "execution_count": 1,
   "id": "71b16b2e",
   "metadata": {},
   "outputs": [],
   "source": [
    "import numpy as np\n",
    "import matplotlib.pyplot as plt\n",
    "import scipy.stats as stats\n",
    "\n",
    "plt.rcParams.update({'figure.max_open_warning': 0})\n",
    "plt.rcParams[\"figure.figsize\"]=15,7.5\n",
    "plt.rcParams.update({'font.size': 24})"
   ]
  },
  {
   "cell_type": "code",
   "execution_count": 24,
   "id": "00f5e90f",
   "metadata": {},
   "outputs": [],
   "source": [
    "# target definition\n",
    "def lp(x): return -np.log(1+x**2)-np.log(np.pi)\n",
    "def randp(size): return np.random.standard_cauchy(size)"
   ]
  },
  {
   "cell_type": "code",
   "execution_count": 19,
   "id": "df47bfd2",
   "metadata": {},
   "outputs": [],
   "source": [
    "# gaussian variational approximation\n",
    "def lq(x,mu,logsigma):\n",
    "    sigma=np.exp(logsigma)\n",
    "    return -0.5*((x-mu)/sigma)**2-0.5*np.log(2*np.pi*sigma**2)"
   ]
  },
  {
   "cell_type": "code",
   "execution_count": 33,
   "id": "93b3a1dd",
   "metadata": {},
   "outputs": [],
   "source": [
    "# gradients\n",
    "\n",
    "def mu_gradient(B,mu,lsigma,lp,randp,divergence='rev-kl'):\n",
    "    if divergence=='rev-kl':\n",
    "        sample=mu+np.exp(lsigma)*np.random.randn(B) #~N(mu,sigma^2)\n",
    "        return np.mean((lq(sample,mu,lsigma)-lp(sample))*(sample-mu)*np.exp(-2*lsigma))\n",
    "    return\n",
    "\n",
    "def ls_gradient(B,mu,lsigma,lp,randp,divergence='rev-kl'):\n",
    "    if divergence=='rev-kl':\n",
    "        sample=mu+np.exp(lsigma)*np.random.randn(B) #~N(mu,sigma^2)\n",
    "        return np.mean((lq(sample,mu,lsigma)-lp(sample))*(np.exp(-2*lsigma)*(sample-mu)**2-1.))\n",
    "    return"
   ]
  },
  {
   "cell_type": "code",
   "execution_count": 48,
   "id": "f9e9929d",
   "metadata": {},
   "outputs": [],
   "source": [
    "# optimization wrapper\n",
    "def gaussianVI(lp,randp,divergence='rev-kl',B=1000,max_iters=1001,lr_mu=1e-2,lr_lsigma=1e-2):\n",
    "    # initial values\n",
    "    mus=np.zeros(max_iters+1)\n",
    "    mus[0]=np.random.randn() # initialize mu at a draw from std normal (cause 0 is probably the opt, let's make it harder)\n",
    "    lsigmas=np.zeros(max_iters+1)\n",
    "    lsigmas[0]=np.random.randn() # ditto\n",
    "\n",
    "    # optimize\n",
    "    print('Initial μ: '+str(mus[0]))\n",
    "    print('Initial σ: '+str(np.exp(lsigmas[0])))\n",
    "    print()\n",
    "    print('Iter  |          μ          |          σ          |      μ gradient     |   logσ gradient')\n",
    "    for t in range(max_iters):\n",
    "        # calculate gradients\n",
    "        grad_mu=mu_gradient(B,mus[t],lsigmas[t],lp,randp,divergence)\n",
    "        grad_lsigma=ls_gradient(B,mus[t],lsigmas[t],lp,randp,divergence)\n",
    "    \n",
    "        # take step\n",
    "        mus[t+1]=mus[t]-lr_mu*grad_mu\n",
    "        lsigmas[t+1]=lsigmas[t]-lr_lsigma*grad_lsigma\n",
    "    \n",
    "        # do printout\n",
    "        if t%(max_iters//10)==0: print('  '+str(t)+'   | '+str(mus[t+1])+'   | '+str(np.exp(lsigmas[t+1]))+'   | '+str(grad_mu)+'  | '+str(grad_lsigma))\n",
    "    # end for\n",
    "    \n",
    "    print()\n",
    "    print('Final μ: '+str(mus[-1]))\n",
    "    print('Final σ: '+str(np.exp(lsigmas[-1])))\n",
    "    return mus,lsigmas"
   ]
  },
  {
   "cell_type": "code",
   "execution_count": 52,
   "id": "330b46d4",
   "metadata": {},
   "outputs": [
    {
     "name": "stdout",
     "output_type": "stream",
     "text": [
      "Initial μ: -1.4109450484350377\n",
      "Initial σ: 0.7555405048862535\n",
      "\n",
      "Iter  |          μ          |          σ          |      μ gradient     |   logσ gradient\n",
      "  0   | -1.330051637102188   | 0.8273992143980493   | -0.8089341133284977  | -0.9085391091811823\n",
      "  1000   | 0.0005270524291469854   | 1.6332116399996317   | -0.0013887432507014561  | -0.002826871874133091\n",
      "  2000   | 0.0031146345768370423   | 1.6450606691249248   | 0.0005891705981535329  | 0.02277744353551756\n",
      "  3000   | 0.0005259391525982489   | 1.6362632856691977   | 0.0007629950059253183  | 0.0024541545456553343\n",
      "  4000   | -0.0008499687316928625   | 1.6406734335863147   | 0.0028831615818133284  | 0.012191286539415832\n",
      "  5000   | -0.0006150767688435494   | 1.6374103119659678   | 0.0030046832948064993  | 0.024323820942381117\n",
      "  6000   | 0.0006711642414678229   | 1.6467761628271074   | -0.0008050145988884044  | 0.004942309406694695\n",
      "  7000   | -0.004359731588668625   | 1.6364947601606012   | 0.0021833479612577617  | -0.02994362784271031\n",
      "  8000   | 0.000980475036099185   | 1.6274195129818825   | 0.004461398875133251  | -0.035204677473965294\n",
      "  9000   | 0.0019101153777551006   | 1.646403890691466   | -0.0012557515016947721  | 0.008629890864215123\n",
      "  10000   | 0.00016610889263867163   | 1.627798888235706   | -9.0984609069951e-05  | 0.009908644193309033\n",
      "\n",
      "Final μ: 0.00016610889263867163\n",
      "Final σ: 1.627798888235706\n"
     ]
    }
   ],
   "source": [
    "# optimization\n",
    "\n",
    "# settings\n",
    "np.random.seed(520)\n",
    "max_iters=10001\n",
    "lr_mu=1e-1\n",
    "lr_lsigma=1e-1\n",
    "B=10000 # monte carlo sample size for gradient estimation\n",
    "divergence='rev-kl'\n",
    "\n",
    "mus,lsigmas=gaussianVI(lp,randp,divergence,B,max_iters,lr_mu,lr_lsigma)"
   ]
  }
 ],
 "metadata": {
  "kernelspec": {
   "display_name": "Python 3 (ipykernel)",
   "language": "python",
   "name": "python3"
  },
  "language_info": {
   "codemirror_mode": {
    "name": "ipython",
    "version": 3
   },
   "file_extension": ".py",
   "mimetype": "text/x-python",
   "name": "python",
   "nbconvert_exporter": "python",
   "pygments_lexer": "ipython3",
   "version": "3.9.6"
  }
 },
 "nbformat": 4,
 "nbformat_minor": 5
}
